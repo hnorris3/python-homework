{
 "cells": [
  {
   "cell_type": "code",
   "execution_count": 51,
   "metadata": {},
   "outputs": [],
   "source": [
    "#variables\n",
    "line_number = 0\n",
    "net_total = 0\n",
    "current = 0\n",
    "average_change = 0\n",
    "total_month = 0\n",
    "pnl_change = 0\n",
    "previous_month = 0\n",
    "current_month = 0\n",
    "sum_changes = 0\n",
    "greatest_increase = 0\n",
    "greatest_decrease = 0\n",
    "greatest_increase_month = 0\n",
    "greatest_decrease_month = 0\n",
    "revenue_change_list = []\n",
    "month_of_change = []\n",
    "total_months = []"
   ]
  },
  {
   "cell_type": "code",
   "execution_count": 52,
   "metadata": {},
   "outputs": [
    {
     "name": "stdout",
     "output_type": "stream",
     "text": [
      "Total Months:86\n",
      "Total: $38382578\n",
      "Average Change: $-2315.12\n",
      "Greatest Increase in Profits: Feb-2012 ($1926159\n",
      "Greatest Decrease in Profits: Sep-2013($-2196167\n"
     ]
    }
   ],
   "source": [
    "# Data from budget_data_csv\n",
    "from pathlib import Path\n",
    "import csv\n",
    "import os\n",
    "filepath = Path(\"budget_data.csv\")\n",
    "\n",
    "\n",
    "with open(filepath, newline = \"\") as csvfile:\n",
    "    csvreader = csv.reader(csvfile, delimiter= \",\")\n",
    "    for line in csvreader:\n",
    "        line_number += 1\n",
    "     # line num 1 = header   \n",
    "        if line_number == 1:\n",
    "            continue\n",
    "       \n",
    "        net_total += int(line[1])\n",
    "        total_month += 1\n",
    "        current_month = int(line[1])\n",
    "        \n",
    "        \n",
    "        if line_number != 2: \n",
    "            sum_changes += (current_month - previous_month)\n",
    "            if    current_month - previous_month > greatest_increase:\n",
    "                greatest_increase = current_month - previous_month\n",
    "                greatest_increase_month = (line[0])\n",
    "                \n",
    "            \n",
    "            if current_month - previous_month < greatest_decrease:\n",
    "                greatest_decrease = current_month - previous_month\n",
    "                greatest_decrease_month = (line[0])\n",
    "        previous_month = current_month\n",
    "        \n",
    "            \n",
    "        \n",
    "    total_changes = total_month - 1\n",
    "    average_change = round ( sum_changes/total_changes, 2) \n",
    "            \n",
    "    print (\"Total Months:\" + str(total_month))   \n",
    "    print (\"Total: $\" + str(net_total))\n",
    "    print (\"Average Change: $\" + str(average_change))\n",
    "    print (\"Greatest Increase in Profits: \" + greatest_increase_month + \" ($\" + str(greatest_increase))\n",
    "    print (\"Greatest Decrease in Profits: \" + greatest_decrease_month + \"($\" + str(greatest_decrease))\n",
    "  \n",
    "    \n",
    "   \n",
    "    \n",
    "    \n",
    "    \n",
    "    \n",
    "    \n",
    "            \n",
    "            \n",
    "            \n",
    "        \n",
    "        \n",
    "    \n"
   ]
  },
  {
   "cell_type": "code",
   "execution_count": null,
   "metadata": {},
   "outputs": [],
   "source": []
  }
 ],
 "metadata": {
  "kernelspec": {
   "display_name": "Python 3",
   "language": "python",
   "name": "python3"
  },
  "language_info": {
   "codemirror_mode": {
    "name": "ipython",
    "version": 3
   },
   "file_extension": ".py",
   "mimetype": "text/x-python",
   "name": "python",
   "nbconvert_exporter": "python",
   "pygments_lexer": "ipython3",
   "version": "3.7.7"
  }
 },
 "nbformat": 4,
 "nbformat_minor": 4
}
